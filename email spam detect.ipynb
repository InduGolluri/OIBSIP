{
 "cells": [
  {
   "cell_type": "code",
   "execution_count": 1,
   "id": "67876983-f671-450b-8499-57c635229aff",
   "metadata": {},
   "outputs": [],
   "source": [
    "import numpy as np\n",
    "import pandas as pd\n",
    "import matplotlib.pyplot as plt\n",
    "import seaborn as sns\n",
    "from sklearn.model_selection import train_test_split, GridSearchCV\n",
    "from sklearn.metrics import classification_report, accuracy_score, confusion_matrix\n",
    "from sklearn.feature_extraction.text import TfidfVectorizer\n",
    "from sklearn.linear_model import LogisticRegression\n",
    "from sklearn.svm import SVC"
   ]
  },
  {
   "cell_type": "markdown",
   "id": "e27ec10e-21c0-4339-a768-677057d1d227",
   "metadata": {},
   "source": [
    "#### Loading Data"
   ]
  },
  {
   "cell_type": "code",
   "execution_count": 2,
   "id": "921e4a2b-fafd-48ea-9828-c4b39b99a09b",
   "metadata": {},
   "outputs": [],
   "source": [
    "raw_mail_data = pd.read_csv(\"data.csv\")"
   ]
  },
  {
   "cell_type": "code",
   "execution_count": 3,
   "id": "9f14a667-a1f9-45d4-ab7f-d601a96d3547",
   "metadata": {},
   "outputs": [],
   "source": [
    "mail_data = raw_mail_data.where((pd.notnull(raw_mail_data)), '')"
   ]
  },
  {
   "cell_type": "code",
   "execution_count": 4,
   "id": "0880d1f0-dce1-4fa0-871a-16654fb0b883",
   "metadata": {},
   "outputs": [
    {
     "data": {
      "text/html": [
       "<div>\n",
       "<style scoped>\n",
       "    .dataframe tbody tr th:only-of-type {\n",
       "        vertical-align: middle;\n",
       "    }\n",
       "\n",
       "    .dataframe tbody tr th {\n",
       "        vertical-align: top;\n",
       "    }\n",
       "\n",
       "    .dataframe thead th {\n",
       "        text-align: right;\n",
       "    }\n",
       "</style>\n",
       "<table border=\"1\" class=\"dataframe\">\n",
       "  <thead>\n",
       "    <tr style=\"text-align: right;\">\n",
       "      <th></th>\n",
       "      <th>Category</th>\n",
       "      <th>Content</th>\n",
       "    </tr>\n",
       "  </thead>\n",
       "  <tbody>\n",
       "    <tr>\n",
       "      <th>0</th>\n",
       "      <td>ham</td>\n",
       "      <td>Subject: enron methanol ; meter # : 988291\\nth...</td>\n",
       "    </tr>\n",
       "    <tr>\n",
       "      <th>1</th>\n",
       "      <td>ham</td>\n",
       "      <td>Subject: hpl nom for january 9 , 2001\\n( see a...</td>\n",
       "    </tr>\n",
       "    <tr>\n",
       "      <th>2</th>\n",
       "      <td>ham</td>\n",
       "      <td>Subject: neon retreat\\nho ho ho , we ' re arou...</td>\n",
       "    </tr>\n",
       "    <tr>\n",
       "      <th>3</th>\n",
       "      <td>spam</td>\n",
       "      <td>Subject: photoshop , windows , office . cheap ...</td>\n",
       "    </tr>\n",
       "    <tr>\n",
       "      <th>4</th>\n",
       "      <td>ham</td>\n",
       "      <td>Subject: re : indian springs\\nthis deal is to ...</td>\n",
       "    </tr>\n",
       "  </tbody>\n",
       "</table>\n",
       "</div>"
      ],
      "text/plain": [
       "  Category                                            Content\n",
       "0      ham  Subject: enron methanol ; meter # : 988291\\nth...\n",
       "1      ham  Subject: hpl nom for january 9 , 2001\\n( see a...\n",
       "2      ham  Subject: neon retreat\\nho ho ho , we ' re arou...\n",
       "3     spam  Subject: photoshop , windows , office . cheap ...\n",
       "4      ham  Subject: re : indian springs\\nthis deal is to ..."
      ]
     },
     "execution_count": 4,
     "metadata": {},
     "output_type": "execute_result"
    }
   ],
   "source": [
    "mail_data.head(5)"
   ]
  },
  {
   "cell_type": "code",
   "execution_count": 5,
   "id": "b6e3b0d6-5fdb-4fd3-9957-244c36c88e5f",
   "metadata": {},
   "outputs": [
    {
     "data": {
      "text/plain": [
       "(5171, 2)"
      ]
     },
     "execution_count": 5,
     "metadata": {},
     "output_type": "execute_result"
    }
   ],
   "source": [
    "mail_data.shape"
   ]
  },
  {
   "cell_type": "code",
   "execution_count": 6,
   "id": "ce76ba61-7b16-4a9c-94e1-de5f868a9de4",
   "metadata": {},
   "outputs": [
    {
     "data": {
      "text/plain": [
       "Category\n",
       "ham     3672\n",
       "spam    1499\n",
       "Name: count, dtype: int64"
      ]
     },
     "execution_count": 6,
     "metadata": {},
     "output_type": "execute_result"
    }
   ],
   "source": [
    "mail_data['Category'].value_counts()"
   ]
  },
  {
   "cell_type": "markdown",
   "id": "22453a06-dd2a-4e03-8263-b13bce836001",
   "metadata": {},
   "source": [
    "### Encoding Category Column"
   ]
  },
  {
   "cell_type": "markdown",
   "id": "5d460421-9d82-4d32-962c-d4a620caf76d",
   "metadata": {},
   "source": [
    "Spam mail label as 1 and Ham mail label as 0"
   ]
  },
  {
   "cell_type": "code",
   "execution_count": 7,
   "id": "0e9303e5-321d-4dda-8eb4-993389d305c4",
   "metadata": {},
   "outputs": [],
   "source": [
    "mail_data.loc[mail_data['Category'] == 'spam', 'Category_Label'] = 1\n",
    "mail_data.loc[mail_data['Category'] == 'ham', 'Category_Label'] = 0"
   ]
  },
  {
   "cell_type": "code",
   "execution_count": 8,
   "id": "f09e493e-e1d6-4965-bb75-4e441780272b",
   "metadata": {},
   "outputs": [
    {
     "data": {
      "text/html": [
       "<div>\n",
       "<style scoped>\n",
       "    .dataframe tbody tr th:only-of-type {\n",
       "        vertical-align: middle;\n",
       "    }\n",
       "\n",
       "    .dataframe tbody tr th {\n",
       "        vertical-align: top;\n",
       "    }\n",
       "\n",
       "    .dataframe thead th {\n",
       "        text-align: right;\n",
       "    }\n",
       "</style>\n",
       "<table border=\"1\" class=\"dataframe\">\n",
       "  <thead>\n",
       "    <tr style=\"text-align: right;\">\n",
       "      <th></th>\n",
       "      <th>Category</th>\n",
       "      <th>Content</th>\n",
       "      <th>Category_Label</th>\n",
       "    </tr>\n",
       "  </thead>\n",
       "  <tbody>\n",
       "    <tr>\n",
       "      <th>0</th>\n",
       "      <td>ham</td>\n",
       "      <td>Subject: enron methanol ; meter # : 988291\\nth...</td>\n",
       "      <td>0.0</td>\n",
       "    </tr>\n",
       "    <tr>\n",
       "      <th>1</th>\n",
       "      <td>ham</td>\n",
       "      <td>Subject: hpl nom for january 9 , 2001\\n( see a...</td>\n",
       "      <td>0.0</td>\n",
       "    </tr>\n",
       "    <tr>\n",
       "      <th>2</th>\n",
       "      <td>ham</td>\n",
       "      <td>Subject: neon retreat\\nho ho ho , we ' re arou...</td>\n",
       "      <td>0.0</td>\n",
       "    </tr>\n",
       "    <tr>\n",
       "      <th>3</th>\n",
       "      <td>spam</td>\n",
       "      <td>Subject: photoshop , windows , office . cheap ...</td>\n",
       "      <td>1.0</td>\n",
       "    </tr>\n",
       "    <tr>\n",
       "      <th>4</th>\n",
       "      <td>ham</td>\n",
       "      <td>Subject: re : indian springs\\nthis deal is to ...</td>\n",
       "      <td>0.0</td>\n",
       "    </tr>\n",
       "  </tbody>\n",
       "</table>\n",
       "</div>"
      ],
      "text/plain": [
       "  Category                                            Content  Category_Label\n",
       "0      ham  Subject: enron methanol ; meter # : 988291\\nth...             0.0\n",
       "1      ham  Subject: hpl nom for january 9 , 2001\\n( see a...             0.0\n",
       "2      ham  Subject: neon retreat\\nho ho ho , we ' re arou...             0.0\n",
       "3     spam  Subject: photoshop , windows , office . cheap ...             1.0\n",
       "4      ham  Subject: re : indian springs\\nthis deal is to ...             0.0"
      ]
     },
     "execution_count": 8,
     "metadata": {},
     "output_type": "execute_result"
    }
   ],
   "source": [
    "mail_data.head(5)"
   ]
  },
  {
   "cell_type": "code",
   "execution_count": 9,
   "id": "22c072f6-518a-4aa0-9d93-c0dc1a2be9f9",
   "metadata": {},
   "outputs": [],
   "source": [
    "X = mail_data['Content'].values\n",
    "Y = mail_data['Category_Label'].values"
   ]
  },
  {
   "cell_type": "markdown",
   "id": "01d89931-a09e-4517-93d7-caceb2b91901",
   "metadata": {},
   "source": [
    "#### Preparing training and testing set"
   ]
  },
  {
   "cell_type": "code",
   "execution_count": 10,
   "id": "0e957ee4-7cc1-4aba-92de-bdbc324ab872",
   "metadata": {},
   "outputs": [],
   "source": [
    "X_train, X_test, y_train, y_test = train_test_split(X, Y, test_size=0.2, random_state=1, shuffle=True)"
   ]
  },
  {
   "cell_type": "code",
   "execution_count": 11,
   "id": "eabfb0c0-974d-4082-8221-a8f85f9e5d7f",
   "metadata": {},
   "outputs": [
    {
     "name": "stdout",
     "output_type": "stream",
     "text": [
      "Original data size: 5171\n",
      "Train data size: 4136\n",
      "Test data size: 1035\n"
     ]
    }
   ],
   "source": [
    "print(\"Original data size:\", X.shape[0])\n",
    "print(\"Train data size:\", X_train.shape[0])\n",
    "print(\"Test data size:\", X_test.shape[0])"
   ]
  },
  {
   "cell_type": "markdown",
   "id": "0ae818eb-f131-4858-85d2-f2d27b634821",
   "metadata": {},
   "source": [
    "#### Text feature extraction using TF-IDF Vectorizer"
   ]
  },
  {
   "cell_type": "markdown",
   "id": "4e21bdc2-a448-4334-9313-934a60b0e7b2",
   "metadata": {},
   "source": [
    "<p>TF-IDF Vectroizer explained well in this <a href=\"https://towardsdatascience.com/tf-idf-simplified-aba19d5f5530\">Medium</a> article</p>"
   ]
  },
  {
   "cell_type": "code",
   "execution_count": 12,
   "id": "40f54a0b-7d41-4193-b626-a06da8a9e243",
   "metadata": {},
   "outputs": [],
   "source": [
    "vectorizer = TfidfVectorizer(min_df=1, lowercase=True, stop_words='english')"
   ]
  },
  {
   "cell_type": "code",
   "execution_count": 13,
   "id": "808fedbf-95c0-4c25-9bc0-f0382145be00",
   "metadata": {},
   "outputs": [],
   "source": [
    "X_train_features = vectorizer.fit_transform(X_train)\n",
    "X_test_features = vectorizer.transform(X_test)"
   ]
  },
  {
   "cell_type": "markdown",
   "id": "47c6b348-1f4b-45ca-99a2-488ade5e2913",
   "metadata": {},
   "source": [
    "#### Model selection and hyper-parameter tuning using GridSearchCV"
   ]
  },
  {
   "cell_type": "code",
   "execution_count": 14,
   "id": "2936f80e-df09-41fd-b504-62e9feb69aac",
   "metadata": {},
   "outputs": [],
   "source": [
    "models = {\n",
    "    \"svm_linear\": {\n",
    "        \"instance\": SVC(probability=True, gamma=\"auto\", kernel=\"linear\"),\n",
    "        \"params\": {\n",
    "            \"C\": [0.001, 0.01, 0.1, 1, 10, 100, 1000],\n",
    "        }\n",
    "    },\n",
    "    \"logistic_regression\": {\n",
    "        \"instance\": LogisticRegression(max_iter=500),\n",
    "        \"params\": {\n",
    "            \"C\": [0.001, 0.01, 0.1, 1, 10, 100, 1000],\n",
    "        }\n",
    "    },\n",
    "}"
   ]
  },
  {
   "cell_type": "code",
   "execution_count": null,
   "id": "47128fe2-ea34-4698-9a14-8eb58534087d",
   "metadata": {},
   "outputs": [
    {
     "name": "stdout",
     "output_type": "stream",
     "text": [
      "Training svm_linear\n"
     ]
    }
   ],
   "source": [
    "scores = []\n",
    "best_estimators = {}\n",
    "\n",
    "for model_name, config in models.items():\n",
    "    print(\"Training\", model_name)\n",
    "    \n",
    "    classifier = GridSearchCV(\n",
    "        estimator=config[\"instance\"],\n",
    "        param_grid=config[\"params\"],\n",
    "        cv=5,\n",
    "        scoring=\"accuracy\"\n",
    "    )\n",
    "    \n",
    "    classifier.fit(X_train_features, y_train)\n",
    "    \n",
    "    scores.append({\n",
    "        \"model\" : model_name,\n",
    "        \"train_score\" : classifier.best_score_,\n",
    "        \"test_score\" : classifier.best_estimator_.score(X_test_features, y_test),\n",
    "        \"params\" : classifier.best_params_\n",
    "    })\n",
    "    \n",
    "    best_estimators[model_name] = classifier.best_estimator_"
   ]
  },
  {
   "cell_type": "code",
   "execution_count": null,
   "id": "84c7875d-ce15-4d5f-adaf-d1a56f012a18",
   "metadata": {},
   "outputs": [],
   "source": [
    "result = pd.DataFrame(scores, columns=[\"model\", \"train_score\", \"test_score\", \"params\"])\n",
    "result.head()"
   ]
  },
  {
   "cell_type": "markdown",
   "id": "30fd3c94-dd8f-4f51-9978-42e72ba88871",
   "metadata": {},
   "source": [
    "<p>Both SVM and Logistic Regression model shows good average score. Since logistic regression works <br> better with binary classification we will work with that.</p>"
   ]
  },
  {
   "cell_type": "code",
   "execution_count": null,
   "id": "2cbb5ea2-8315-48c2-90eb-1e8d631900fc",
   "metadata": {},
   "outputs": [],
   "source": [
    "model = best_estimators['logistic_regression']"
   ]
  },
  {
   "cell_type": "markdown",
   "id": "c03fa7ec-77d1-42e6-9088-db52edb20aac",
   "metadata": {},
   "source": [
    "#### Model evaluation"
   ]
  },
  {
   "cell_type": "code",
   "execution_count": 20,
   "id": "350676e2-97b2-4fd3-aa29-9e94a8197014",
   "metadata": {},
   "outputs": [
    {
     "name": "stdout",
     "output_type": "stream",
     "text": [
      "ACCURACY SCORE\n",
      "Training Set: 100.0 %\n",
      "Testing Set: 99.51690821256038 %\n"
     ]
    }
   ],
   "source": [
    "print(\"ACCURACY SCORE\")\n",
    "print(\"Training Set:\", accuracy_score(y_true=y_train, y_pred=model.predict(X_train_features)) * 100, \"%\")\n",
    "print(\"Testing Set:\", accuracy_score(y_true=y_test, y_pred=model.predict(X_test_features)) * 100, \"%\")"
   ]
  },
  {
   "cell_type": "code",
   "execution_count": 21,
   "id": "433c3956-7a9f-4bcf-be43-c96a1f39c9ac",
   "metadata": {},
   "outputs": [
    {
     "name": "stdout",
     "output_type": "stream",
     "text": [
      "CLASSIFICATION REPORT\n",
      "              precision    recall  f1-score   support\n",
      "\n",
      "         0.0       1.00      0.99      1.00       731\n",
      "         1.0       0.99      1.00      0.99       304\n",
      "\n",
      "    accuracy                           1.00      1035\n",
      "   macro avg       0.99      1.00      0.99      1035\n",
      "weighted avg       1.00      1.00      1.00      1035\n",
      "\n"
     ]
    }
   ],
   "source": [
    "print(\"CLASSIFICATION REPORT\")\n",
    "print(classification_report(y_true=y_test, y_pred=model.predict(X_test_features)))"
   ]
  },
  {
   "cell_type": "code",
   "execution_count": 22,
   "id": "7d6fd09c-afab-41b5-9b5e-709871f418d0",
   "metadata": {},
   "outputs": [
    {
     "data": {
      "image/png": "[encoded data removed]",
      "text/plain": [
       "<Figure size 800x600 with 2 Axes>"
      ]
     },
     "metadata": {},
     "output_type": "display_data"
    }
   ],
   "source": [
    "matrix = confusion_matrix(y_true=y_test, y_pred=model.predict(X_test_features))\n",
    "\n",
    "plt.figure(figsize=(8,6))\n",
    "plt.xlabel(\"PREDICTED\")\n",
    "plt.ylabel(\"TRUTH\")\n",
    "sns.heatmap(matrix, annot=True)\n",
    "plt.show()"
   ]
  },
  {
   "cell_type": "markdown",
   "id": "1b206e02-0d22-49dc-8648-a3fe6490dda8",
   "metadata": {},
   "source": [
    "#### Making Predictions"
   ]
  },
  {
   "cell_type": "code",
   "execution_count": 23,
   "id": "2c10efb1-1705-44e0-b6ed-9e7784f6caed",
   "metadata": {},
   "outputs": [
    {
     "name": "stderr",
     "output_type": "stream",
     "text": [
      "C:\\Users\\HP\\AppData\\Local\\Temp\\ipykernel_21500\\1320940951.py:8: FutureWarning: Setting an item of incompatible dtype is deprecated and will raise in a future error of pandas. Value 'Ham' has dtype incompatible with float64, please explicitly cast to a compatible dtype first.\n",
      "  predictions.loc[predictions['Real Category'] == 0, 'Real Category'] = 'Ham'\n",
      "C:\\Users\\HP\\AppData\\Local\\Temp\\ipykernel_21500\\1320940951.py:11: FutureWarning: Setting an item of incompatible dtype is deprecated and will raise in a future error of pandas. Value 'Ham' has dtype incompatible with float64, please explicitly cast to a compatible dtype first.\n",
      "  predictions.loc[predictions['Predicted Category'] == 0, 'Predicted Category'] = 'Ham'\n"
     ]
    },
    {
     "data": {
      "text/html": [
       "<div>\n",
       "<style scoped>\n",
       "    .dataframe tbody tr th:only-of-type {\n",
       "        vertical-align: middle;\n",
       "    }\n",
       "\n",
       "    .dataframe tbody tr th {\n",
       "        vertical-align: top;\n",
       "    }\n",
       "\n",
       "    .dataframe thead th {\n",
       "        text-align: right;\n",
       "    }\n",
       "</style>\n",
       "<table border=\"1\" class=\"dataframe\">\n",
       "  <thead>\n",
       "    <tr style=\"text-align: right;\">\n",
       "      <th></th>\n",
       "      <th>Content</th>\n",
       "      <th>Real Category</th>\n",
       "      <th>Predicted Category</th>\n",
       "    </tr>\n",
       "  </thead>\n",
       "  <tbody>\n",
       "    <tr>\n",
       "      <th>0</th>\n",
       "      <td>Subject: what the heck\\ndaren ,\\nnow what ? i ...</td>\n",
       "      <td>Ham</td>\n",
       "      <td>Ham</td>\n",
       "    </tr>\n",
       "    <tr>\n",
       "      <th>1</th>\n",
       "      <td>Subject: hilcorp old ocean volume\\naccording t...</td>\n",
       "      <td>Ham</td>\n",
       "      <td>Ham</td>\n",
       "    </tr>\n",
       "    <tr>\n",
       "      <th>2</th>\n",
       "      <td>Subject: jurirne get latest softwares , 99 % s...</td>\n",
       "      <td>Spam</td>\n",
       "      <td>Spam</td>\n",
       "    </tr>\n",
       "    <tr>\n",
       "      <th>3</th>\n",
       "      <td>Subject: sitara patch\\na patch is being releas...</td>\n",
       "      <td>Ham</td>\n",
       "      <td>Ham</td>\n",
       "    </tr>\n",
       "    <tr>\n",
       "      <th>4</th>\n",
       "      <td>Subject: archived great shots of california li...</td>\n",
       "      <td>Spam</td>\n",
       "      <td>Spam</td>\n",
       "    </tr>\n",
       "    <tr>\n",
       "      <th>5</th>\n",
       "      <td>Subject: this is hillarious !\\ntake a minute a...</td>\n",
       "      <td>Ham</td>\n",
       "      <td>Ham</td>\n",
       "    </tr>\n",
       "    <tr>\n",
       "      <th>6</th>\n",
       "      <td>Subject: devon\\ni understand you guys want to ...</td>\n",
       "      <td>Ham</td>\n",
       "      <td>Ham</td>\n",
       "    </tr>\n",
       "    <tr>\n",
       "      <th>7</th>\n",
       "      <td>Subject: feb noms\\n- - - - - - - - - - - - - -...</td>\n",
       "      <td>Ham</td>\n",
       "      <td>Ham</td>\n",
       "    </tr>\n",
       "    <tr>\n",
       "      <th>8</th>\n",
       "      <td>Subject: please read - important information f...</td>\n",
       "      <td>Ham</td>\n",
       "      <td>Ham</td>\n",
       "    </tr>\n",
       "    <tr>\n",
       "      <th>9</th>\n",
       "      <td>Subject: \\nreceived : from 182 . 152 . 35 . 18...</td>\n",
       "      <td>Spam</td>\n",
       "      <td>Spam</td>\n",
       "    </tr>\n",
       "  </tbody>\n",
       "</table>\n",
       "</div>"
      ],
      "text/plain": [
       "                                             Content Real Category  \\\n",
       "0  Subject: what the heck\\ndaren ,\\nnow what ? i ...           Ham   \n",
       "1  Subject: hilcorp old ocean volume\\naccording t...           Ham   \n",
       "2  Subject: jurirne get latest softwares , 99 % s...          Spam   \n",
       "3  Subject: sitara patch\\na patch is being releas...           Ham   \n",
       "4  Subject: archived great shots of california li...          Spam   \n",
       "5  Subject: this is hillarious !\\ntake a minute a...           Ham   \n",
       "6  Subject: devon\\ni understand you guys want to ...           Ham   \n",
       "7  Subject: feb noms\\n- - - - - - - - - - - - - -...           Ham   \n",
       "8  Subject: please read - important information f...           Ham   \n",
       "9  Subject: \\nreceived : from 182 . 152 . 35 . 18...          Spam   \n",
       "\n",
       "  Predicted Category  \n",
       "0                Ham  \n",
       "1                Ham  \n",
       "2               Spam  \n",
       "3                Ham  \n",
       "4               Spam  \n",
       "5                Ham  \n",
       "6                Ham  \n",
       "7                Ham  \n",
       "8                Ham  \n",
       "9               Spam  "
      ]
     },
     "execution_count": 23,
     "metadata": {},
     "output_type": "execute_result"
    }
   ],
   "source": [
    "predictions = pd.DataFrame()\n",
    "\n",
    "predictions[\"Content\"] = X_test\n",
    "\n",
    "predictions[\"Real Category\"] = y_test\n",
    "predictions[\"Predicted Category\"] = model.predict(X_test_features)\n",
    "\n",
    "predictions.loc[predictions['Real Category'] == 0, 'Real Category'] = 'Ham'\n",
    "predictions.loc[predictions['Real Category'] == 1, 'Real Category'] = 'Spam'\n",
    "\n",
    "predictions.loc[predictions['Predicted Category'] == 0, 'Predicted Category'] = 'Ham'\n",
    "predictions.loc[predictions['Predicted Category'] == 1, 'Predicted Category'] = 'Spam'\n",
    "\n",
    "predictions.to_csv(\"test_prediction_result.csv\", index=False)\n",
    "\n",
    "predictions.head(10)"
   ]
  },
  {
   "cell_type": "code",
   "execution_count": null,
   "id": "38ec938e-b828-495a-87de-b0d8c5c2f2f2",
   "metadata": {},
   "outputs": [],
   "source": []
  },
  {
   "cell_type": "code",
   "execution_count": null,
   "id": "f5bfeb32-0ba3-4a3f-84e5-b985db7b9856",
   "metadata": {},
   "outputs": [],
   "source": []
  },
  {
   "cell_type": "code",
   "execution_count": null,
   "id": "3577677b-d517-4b73-a91d-a3f5bd9cb5e7",
   "metadata": {},
   "outputs": [],
   "source": []
  },
  {
   "cell_type": "code",
   "execution_count": null,
   "id": "d1e0db42-d47c-4746-86fe-5126ebe35e7c",
   "metadata": {},
   "outputs": [],
   "source": []
  }
 ],
 "metadata": {
  "kernelspec": {
   "display_name": "Python 3 (ipykernel)",
   "language": "python",
   "name": "python3"
  },
  "language_info": {
   "codemirror_mode": {
    "name": "ipython",
    "version": 3
   },
   "file_extension": ".py",
   "mimetype": "text/x-python",
   "name": "python",
   "nbconvert_exporter": "python",
   "pygments_lexer": "ipython3",
   "version": "3.11.5"
  }
 },
 "nbformat": 4,
 "nbformat_minor": 5
}
